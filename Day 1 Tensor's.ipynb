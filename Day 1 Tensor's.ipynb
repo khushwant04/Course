{
 "cells": [
  {
   "cell_type": "markdown",
   "id": "623faa8e",
   "metadata": {},
   "source": [
    "# Introduction to Deep Learning\n",
    "\n",
    "## What is Deep Learning?\n",
    "\n",
    "Deep Learning is a subset of artificial intelligence (AI) and machine learning (ML) that focuses on using neural networks with many layers to analyze and learn from data. These neural networks, often referred to as deep neural networks, are designed to automatically and adaptively learn patterns from large amounts of data without explicit programming.\n",
    "\n",
    "### Key Points:\n",
    "- **Neural Networks**: Computation models inspired by the human brain's structure and function.\n",
    "- **Layers**: Multiple layers of neurons that help in extracting features from raw data.\n",
    "- **Training**: The process of adjusting the model parameters to minimize prediction errors using large datasets."
   ]
  },
  {
   "cell_type": "markdown",
   "id": "66e60919-ebbb-455c-ba9a-ffc3ff24b76e",
   "metadata": {},
   "source": [
    "# Introduction to Neurons and Neural Networks\n",
    "\n",
    "## Neurons\n",
    "\n",
    "A **neuron** is the fundamental unit of a neural network, inspired by biological neurons in the human brain. It performs the following functions:\n",
    "\n",
    "- **Input Reception**: Neurons receive input signals from other neurons or external sources.\n",
    "- **Weighted Sum**: Each input is multiplied by a weight, and these weighted inputs are summed up.\n",
    "- **Activation Function**: The sum is passed through an activation function to determine the neuron's output.\n",
    "\n",
    "### Components of a Neuron:\n",
    "\n",
    "- **Inputs**: Values fed into the neuron.\n",
    "- **Weights**: Parameters that scale the inputs.\n",
    "- **Bias**: A constant added to the weighted sum.\n",
    "- **Activation Function**: A function that transforms the weighted sum to the output.\n",
    "\n",
    "### Activation Function:\n",
    "\n",
    "The activation function introduces non-linearity into the model, allowing it to learn complex patterns. Common activation functions include:\n",
    "\n",
    "- **Sigmoid**: `σ(x) = 1 / (1 + e^(-x))`\n",
    "- **ReLU**: `ReLU(x) = max(0, x)`\n",
    "- **Tanh**: `tanh(x) = (e^x - e^(-x)) / (e^x + e^(-x))`\n",
    "\n",
    "## Neural Networks\n",
    "\n",
    "A **neural network** is a collection of interconnected neurons organized into layers. It consists of:\n",
    "\n",
    "- **Input Layer**: Receives the initial data.\n",
    "- **Hidden Layers**: Intermediate layers where computations are performed. Each neuron in a hidden layer receives inputs from neurons in the previous layer and sends outputs to neurons in the next layer.\n",
    "- **Output Layer**: Produces the final result or prediction.\n",
    "\n",
    "### Structure of a Neural Network:\n",
    "\n",
    "```plaintext\n",
    "Input Layer      Hidden Layers      Output Layer\n",
    "  [ x1 ]            [ h1 ]             [ y1 ]\n",
    "  [ x2 ]  --->      [ h2 ]  --->       [ y2 ]\n",
    "  [ x3 ]            [ h3 ]             [ y3 ]\n"
   ]
  },
  {
   "cell_type": "raw",
   "id": "758aa9df-0aad-436a-a603-2028c600f311",
   "metadata": {},
   "source": [
    "     Input Layer            Hidden Layer            Output Layer\n",
    "   +-----------+         +-----------+         +-----------+\n",
    "   |  x1       |         |  h1       |         |  y1       |\n",
    "   |  x2       |         |  h2       |         |  y2       |\n",
    "   |  x3       |         |  h3       |         |  y3       |\n",
    "   +-----------+         +-----------+         +-----------+\n",
    "        |                     |                      |\n",
    "       (weights)              (weights)             (weights)\n",
    "        |                     |                      |\n",
    "   +-----------+         +-----------+         +-----------+\n",
    "   |  h1       |         |  y1       |\n",
    "   |  h2       |         |  y2       |\n",
    "   |  h3       |         |  y3       |\n",
    "   +-----------+         +-----------+\n"
   ]
  },
  {
   "cell_type": "markdown",
   "id": "bff7093f-3e86-4aae-90d1-4ca6a1db530b",
   "metadata": {},
   "source": [
    "# Introduction to PyTorch\n",
    "\n",
    "## What is PyTorch?\n",
    "\n",
    "PyTorch is an open-source deep learning framework developed by Facebook's AI Research lab. It provides a flexible and intuitive way to build and train neural networks. PyTorch is popular for its dynamic computation graph, which makes it easier to work with complex models and debug your code.\n",
    "\n",
    "### Key Components of PyTorch\n",
    "\n",
    "1. **Tensors**\n",
    "   - **Definition**: Tensors are the fundamental building blocks in PyTorch. They are multi-dimensional arrays similar to NumPy arrays but with additional capabilities for GPU acceleration.\n",
    "   - **Usage**: Used for storing and manipulating data. Tensors can be created from lists, NumPy arrays, or directly from PyTorch functions."
   ]
  },
  {
   "cell_type": "code",
   "execution_count": 3,
   "id": "3547927e-11d7-41e7-b17d-a692404ffc87",
   "metadata": {},
   "outputs": [
    {
     "name": "stdout",
     "output_type": "stream",
     "text": [
      "2.4.0+cu124\n"
     ]
    }
   ],
   "source": [
    "import torch\n",
    "\n",
    "print(torch.__version__)"
   ]
  },
  {
   "cell_type": "code",
   "execution_count": 4,
   "id": "e7ccf0f2-2303-42b3-8521-6bd19d683a26",
   "metadata": {},
   "outputs": [
    {
     "data": {
      "text/plain": [
       "tensor(7)"
      ]
     },
     "execution_count": 4,
     "metadata": {},
     "output_type": "execute_result"
    }
   ],
   "source": [
    "# scaler\n",
    "scaler = torch.tensor(7)\n",
    "scaler"
   ]
  },
  {
   "cell_type": "code",
   "execution_count": 5,
   "id": "6e01160b-476d-45e4-a843-1e40e91ba95c",
   "metadata": {},
   "outputs": [
    {
     "data": {
      "text/plain": [
       "0"
      ]
     },
     "execution_count": 5,
     "metadata": {},
     "output_type": "execute_result"
    }
   ],
   "source": [
    "scaler.ndim"
   ]
  },
  {
   "cell_type": "code",
   "execution_count": 6,
   "id": "75e29b95-8a6b-44ef-a3dd-01c24c3884bb",
   "metadata": {},
   "outputs": [
    {
     "data": {
      "text/plain": [
       "7"
      ]
     },
     "execution_count": 6,
     "metadata": {},
     "output_type": "execute_result"
    }
   ],
   "source": [
    "scaler.item()"
   ]
  },
  {
   "cell_type": "code",
   "execution_count": 7,
   "id": "06978ae8-294e-43f0-a099-50fa21b78820",
   "metadata": {},
   "outputs": [
    {
     "data": {
      "text/plain": [
       "tensor([[2, 3],\n",
       "        [4, 5]])"
      ]
     },
     "execution_count": 7,
     "metadata": {},
     "output_type": "execute_result"
    }
   ],
   "source": [
    "#vector\n",
    "vector = torch.tensor([\n",
    "    [2,3],\n",
    "    [4,5]\n",
    "])\n",
    "vector"
   ]
  },
  {
   "cell_type": "code",
   "execution_count": 8,
   "id": "a241bbad-c71d-4718-b4d9-0716807d5487",
   "metadata": {},
   "outputs": [
    {
     "data": {
      "text/plain": [
       "2"
      ]
     },
     "execution_count": 8,
     "metadata": {},
     "output_type": "execute_result"
    }
   ],
   "source": [
    "vector.ndim"
   ]
  },
  {
   "cell_type": "code",
   "execution_count": 9,
   "id": "c5a88ec6-05c0-4c73-b0cc-b6c06a47cf07",
   "metadata": {},
   "outputs": [
    {
     "data": {
      "text/plain": [
       "torch.Size([2, 2])"
      ]
     },
     "execution_count": 9,
     "metadata": {},
     "output_type": "execute_result"
    }
   ],
   "source": [
    "vector.shape"
   ]
  },
  {
   "cell_type": "code",
   "execution_count": 10,
   "id": "a40f66de-a90b-42e6-8164-f85a3b974688",
   "metadata": {},
   "outputs": [
    {
     "data": {
      "text/plain": [
       "tensor([ 1,  2,  3,  4,  5,  6,  7,  8,  9, 10])"
      ]
     },
     "execution_count": 10,
     "metadata": {},
     "output_type": "execute_result"
    }
   ],
   "source": [
    "### Creating range of tensor and tensor-like\n",
    "one_to_ten = torch.arange(start = 1,end = 11,step=1)\n",
    "one_to_ten"
   ]
  },
  {
   "cell_type": "code",
   "execution_count": 11,
   "id": "1e64943e-5fd5-444e-9a7a-515cbd364e8f",
   "metadata": {},
   "outputs": [
    {
     "data": {
      "text/plain": [
       "tensor([0, 0, 0, 0, 0, 0, 0, 0, 0, 0])"
      ]
     },
     "execution_count": 11,
     "metadata": {},
     "output_type": "execute_result"
    }
   ],
   "source": [
    "#creating tensorlike\n",
    "ten_zeros = torch.zeros_like(input=one_to_ten)\n",
    "ten_zeros"
   ]
  },
  {
   "cell_type": "markdown",
   "id": "3aa869c2-108f-4019-a74f-9769b13c005d",
   "metadata": {},
   "source": [
    "### Tensor datatypes"
   ]
  },
  {
   "cell_type": "code",
   "execution_count": 12,
   "id": "02292a26-3a8a-41f4-ab18-e010102dc7fc",
   "metadata": {},
   "outputs": [
    {
     "name": "stdout",
     "output_type": "stream",
     "text": [
      "Wed Aug 14 05:26:55 2024       \n",
      "+-----------------------------------------------------------------------------------------+\n",
      "| NVIDIA-SMI 560.31.01              Driver Version: 560.81         CUDA Version: 12.6     |\n",
      "|-----------------------------------------+------------------------+----------------------+\n",
      "| GPU  Name                 Persistence-M | Bus-Id          Disp.A | Volatile Uncorr. ECC |\n",
      "| Fan  Temp   Perf          Pwr:Usage/Cap |           Memory-Usage | GPU-Util  Compute M. |\n",
      "|                                         |                        |               MIG M. |\n",
      "|=========================================+========================+======================|\n",
      "|   0  NVIDIA GeForce RTX 4070 ...    On  |   00000000:01:00.0  On |                  N/A |\n",
      "| N/A   42C    P5             20W /   45W |     554MiB /   8188MiB |      1%      Default |\n",
      "|                                         |                        |                  N/A |\n",
      "+-----------------------------------------+------------------------+----------------------+\n",
      "                                                                                         \n",
      "+-----------------------------------------------------------------------------------------+\n",
      "| Processes:                                                                              |\n",
      "|  GPU   GI   CI        PID   Type   Process name                              GPU Memory |\n",
      "|        ID   ID                                                               Usage      |\n",
      "|=========================================================================================|\n",
      "|  No running processes found                                                             |\n",
      "+-----------------------------------------------------------------------------------------+\n"
     ]
    }
   ],
   "source": [
    "!nvidia-smi"
   ]
  },
  {
   "cell_type": "code",
   "execution_count": 13,
   "id": "f63b5b09-db90-4e35-924f-b1a77ebc4eee",
   "metadata": {},
   "outputs": [
    {
     "data": {
      "text/plain": [
       "tensor([3., 6., 9.])"
      ]
     },
     "execution_count": 13,
     "metadata": {},
     "output_type": "execute_result"
    }
   ],
   "source": [
    "# flaot 32 tensor on cpu\n",
    "float_32_tensor = torch.tensor([3.0,6.0,9.0],\n",
    "                               dtype=None,\n",
    "                              device='cpu',\n",
    "                              requires_grad=False)\n",
    "float_32_tensor"
   ]
  },
  {
   "cell_type": "code",
   "execution_count": 14,
   "id": "21a52565-6d20-43a8-87f0-42b03a7d215f",
   "metadata": {},
   "outputs": [
    {
     "data": {
      "text/plain": [
       "tensor([3., 6., 9.], device='cuda:0')"
      ]
     },
     "execution_count": 14,
     "metadata": {},
     "output_type": "execute_result"
    }
   ],
   "source": [
    "# flaot 32 tensor\n",
    "float_32_tensor = torch.tensor([3.0,6.0,9.0],\n",
    "                               dtype=None,\n",
    "                              device='cuda',\n",
    "                              requires_grad=False)\n",
    "float_32_tensor"
   ]
  },
  {
   "cell_type": "code",
   "execution_count": 15,
   "id": "c6f6558b-40e6-4d37-b853-c02e3e07763b",
   "metadata": {},
   "outputs": [
    {
     "data": {
      "text/plain": [
       "torch.float32"
      ]
     },
     "execution_count": 15,
     "metadata": {},
     "output_type": "execute_result"
    }
   ],
   "source": [
    "float_32_tensor.dtype"
   ]
  },
  {
   "cell_type": "code",
   "execution_count": 16,
   "id": "7f04a74f-db5b-4fe6-8754-b01db0912404",
   "metadata": {},
   "outputs": [
    {
     "data": {
      "text/plain": [
       "tensor([3., 6., 9.], device='cuda:0', dtype=torch.float16)"
      ]
     },
     "execution_count": 16,
     "metadata": {},
     "output_type": "execute_result"
    }
   ],
   "source": [
    "float_16_tensor = float_32_tensor.type(torch.float16)\n",
    "float_16_tensor"
   ]
  },
  {
   "cell_type": "code",
   "execution_count": 17,
   "id": "c9e63952-376d-47ef-8681-38b55f922dba",
   "metadata": {},
   "outputs": [
    {
     "data": {
      "text/plain": [
       "tensor([ 9., 36., 81.], device='cuda:0')"
      ]
     },
     "execution_count": 17,
     "metadata": {},
     "output_type": "execute_result"
    }
   ],
   "source": [
    "float_16_tensor * float_32_tensor"
   ]
  },
  {
   "cell_type": "code",
   "execution_count": 18,
   "id": "1f5b0737-082c-4015-a033-fdbab90700bb",
   "metadata": {},
   "outputs": [
    {
     "data": {
      "text/plain": [
       "tensor([3, 6, 9], device='cuda:0')"
      ]
     },
     "execution_count": 18,
     "metadata": {},
     "output_type": "execute_result"
    }
   ],
   "source": [
    "int_32_tensor = torch.tensor([3,6,9],dtype= torch.long,device='cuda')\n",
    "int_32_tensor"
   ]
  },
  {
   "cell_type": "code",
   "execution_count": 19,
   "id": "99d9e99e-003b-4242-963b-c73accccb5b3",
   "metadata": {},
   "outputs": [
    {
     "data": {
      "text/plain": [
       "tensor([ 9., 36., 81.], device='cuda:0')"
      ]
     },
     "execution_count": 19,
     "metadata": {},
     "output_type": "execute_result"
    }
   ],
   "source": [
    "float_32_tensor * int_32_tensor"
   ]
  }
 ],
 "metadata": {
  "kernelspec": {
   "display_name": "Python 3 (ipykernel)",
   "language": "python",
   "name": "python3"
  },
  "language_info": {
   "codemirror_mode": {
    "name": "ipython",
    "version": 3
   },
   "file_extension": ".py",
   "mimetype": "text/x-python",
   "name": "python",
   "nbconvert_exporter": "python",
   "pygments_lexer": "ipython3",
   "version": "3.12.4"
  }
 },
 "nbformat": 4,
 "nbformat_minor": 5
}
